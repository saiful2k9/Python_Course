{
 "cells": [
  {
   "cell_type": "code",
   "execution_count": 1,
   "metadata": {},
   "outputs": [
    {
     "name": "stdout",
     "output_type": "stream",
     "text": [
      "please enter your favourite place cox bazar\n",
      "COX BAZAR\n",
      "RAZAB XOC\n"
     ]
    }
   ],
   "source": [
    "#Excercise 1\n",
    "# My favourite place\n",
    "\n",
    "place  = input(\"please enter your favourite place \")\n",
    "up_place = place.upper() \n",
    "print (up_place)\n",
    "\n",
    "#Excercise 2\n",
    "# Writing the name of the place in reverse order\n",
    "\n",
    "rev_place = reversed(up_place)\n",
    "print (''.join(rev_place))"
   ]
  },
  {
   "cell_type": "code",
   "execution_count": 1,
   "metadata": {},
   "outputs": [
    {
     "name": "stdout",
     "output_type": "stream",
     "text": [
      "Corona Virus is also known as Covid-19\n",
      "17\n"
     ]
    }
   ],
   "source": [
    "# Excercise3\n",
    "# Information about Corona Virus\n",
    "\n",
    "word1 = \"Corona \"\n",
    "word2 = \"Virus \"\n",
    "word3 = \"Covid-19\"\n",
    "add_words = \"is also known as \"\n",
    "com_word = word1 + word2 + word3\n",
    "sentence = word1 + word2 + add_words + word3\n",
    "print(sentence)\n",
    "\n",
    "# Find the length of the sentence\n",
    "\n",
    "com_length = len(com_word)\n",
    "sen_length = len(sentence)\n",
    "print (sen_length - com_length)\n"
   ]
  },
  {
   "cell_type": "code",
   "execution_count": 9,
   "metadata": {},
   "outputs": [
    {
     "name": "stdout",
     "output_type": "stream",
     "text": [
      "please enter your name Saiful\n",
      "please enter your country bangladesh\n",
      "please enter your profession civil engineer\n",
      "Hello, I am Saiful , I am from  BANGLADESH and I am working as a  Civil Engineer\n"
     ]
    }
   ],
   "source": [
    "# Excercise 4\n",
    "# Introducing myself\n",
    "\n",
    "name = input(\"please enter your name \")\n",
    "country = input(\"please enter your country \")\n",
    "profession = input(\"please enter your profession \")\n",
    "print (\"Hello, I am\",name,\", I am from \", country.upper(), \"and I am working as a \", profession.title())"
   ]
  }
 ],
 "metadata": {
  "kernelspec": {
   "display_name": "Python 3",
   "language": "python",
   "name": "python3"
  },
  "language_info": {
   "codemirror_mode": {
    "name": "ipython",
    "version": 3
   },
   "file_extension": ".py",
   "mimetype": "text/x-python",
   "name": "python",
   "nbconvert_exporter": "python",
   "pygments_lexer": "ipython3",
   "version": "3.8.3"
  }
 },
 "nbformat": 4,
 "nbformat_minor": 4
}
